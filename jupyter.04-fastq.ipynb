{
 "cells": [
  {
   "cell_type": "code",
   "execution_count": 5,
   "metadata": {},
   "outputs": [],
   "source": [
    "import pandas as pd\n",
    "from os.path import basename\n",
    "from os.path import dirname\n",
    "pd.set_option('display.max_colwidth', 200)"
   ]
  },
  {
   "cell_type": "code",
   "execution_count": 6,
   "metadata": {},
   "outputs": [
    {
     "name": "stdout",
     "output_type": "stream",
     "text": [
      "1789 /tmp/fastqs.tmp\n",
      "(1789, 1)\n"
     ]
    },
    {
     "data": {
      "text/html": [
       "<div>\n",
       "<style scoped>\n",
       "    .dataframe tbody tr th:only-of-type {\n",
       "        vertical-align: middle;\n",
       "    }\n",
       "\n",
       "    .dataframe tbody tr th {\n",
       "        vertical-align: top;\n",
       "    }\n",
       "\n",
       "    .dataframe thead th {\n",
       "        text-align: right;\n",
       "    }\n",
       "</style>\n",
       "<table border=\"1\" class=\"dataframe\">\n",
       "  <thead>\n",
       "    <tr style=\"text-align: right;\">\n",
       "      <th></th>\n",
       "      <th>path</th>\n",
       "    </tr>\n",
       "  </thead>\n",
       "  <tbody>\n",
       "    <tr>\n",
       "      <th>0</th>\n",
       "      <td>/ccmb/BioinfCore/DNASeqCore/Run_1630/rhim/Run_1630/rhim/Sample_64555/64555_GGCTAC_S10_L002_R1_001.fastq.gz</td>\n",
       "    </tr>\n",
       "    <tr>\n",
       "      <th>1</th>\n",
       "      <td>/ccmb/BioinfCore/DNASeqCore/Run_1630/rhim/Run_1630/rhim/Sample_64555/64555_GGCTAC_S10_L001_R2_001.fastq.gz</td>\n",
       "    </tr>\n",
       "    <tr>\n",
       "      <th>2</th>\n",
       "      <td>/ccmb/BioinfCore/DNASeqCore/Run_1630/rhim/Run_1630/rhim/Sample_64555/64555_GGCTAC_S10_L002_R2_001.fastq.gz</td>\n",
       "    </tr>\n",
       "    <tr>\n",
       "      <th>3</th>\n",
       "      <td>/ccmb/BioinfCore/DNASeqCore/Run_1630/rhim/Run_1630/rhim/Sample_64555/64555_GGCTAC_S10_L001_R1_001.fastq.gz</td>\n",
       "    </tr>\n",
       "    <tr>\n",
       "      <th>4</th>\n",
       "      <td>/ccmb/BioinfCore/DNASeqCore/Run_1630/rhim/Run_1630/rhim/Sample_64540/64540_TAGCTT_S31_L003_R1_001.fastq.gz</td>\n",
       "    </tr>\n",
       "  </tbody>\n",
       "</table>\n",
       "</div>"
      ],
      "text/plain": [
       "                                                                                                         path\n",
       "0  /ccmb/BioinfCore/DNASeqCore/Run_1630/rhim/Run_1630/rhim/Sample_64555/64555_GGCTAC_S10_L002_R1_001.fastq.gz\n",
       "1  /ccmb/BioinfCore/DNASeqCore/Run_1630/rhim/Run_1630/rhim/Sample_64555/64555_GGCTAC_S10_L001_R2_001.fastq.gz\n",
       "2  /ccmb/BioinfCore/DNASeqCore/Run_1630/rhim/Run_1630/rhim/Sample_64555/64555_GGCTAC_S10_L002_R2_001.fastq.gz\n",
       "3  /ccmb/BioinfCore/DNASeqCore/Run_1630/rhim/Run_1630/rhim/Sample_64555/64555_GGCTAC_S10_L001_R1_001.fastq.gz\n",
       "4  /ccmb/BioinfCore/DNASeqCore/Run_1630/rhim/Run_1630/rhim/Sample_64540/64540_TAGCTT_S31_L003_R1_001.fastq.gz"
      ]
     },
     "execution_count": 6,
     "metadata": {},
     "output_type": "execute_result"
    }
   ],
   "source": [
    "!find /ccmb/BioinfCore/DNASeqCore/Run_163* -maxdepth 5 -name '*.fastq.gz' | grep -v 'Undetermined' > /tmp/fastqs.tmp\n",
    "!wc -l /tmp/fastqs.tmp\n",
    "fastqs_df = pd.read_table('/tmp/fastqs.tmp', names=['path'])\n",
    "print(fastqs_df.shape)\n",
    "fastqs_df.head()"
   ]
  },
  {
   "cell_type": "code",
   "execution_count": 8,
   "metadata": {},
   "outputs": [
    {
     "data": {
      "text/html": [
       "<div>\n",
       "<style scoped>\n",
       "    .dataframe tbody tr th:only-of-type {\n",
       "        vertical-align: middle;\n",
       "    }\n",
       "\n",
       "    .dataframe tbody tr th {\n",
       "        vertical-align: top;\n",
       "    }\n",
       "\n",
       "    .dataframe thead th {\n",
       "        text-align: right;\n",
       "    }\n",
       "</style>\n",
       "<table border=\"1\" class=\"dataframe\">\n",
       "  <thead>\n",
       "    <tr style=\"text-align: right;\">\n",
       "      <th></th>\n",
       "      <th>path</th>\n",
       "      <th>dirname</th>\n",
       "      <th>basename</th>\n",
       "      <th>prefix</th>\n",
       "      <th>read</th>\n",
       "    </tr>\n",
       "  </thead>\n",
       "  <tbody>\n",
       "    <tr>\n",
       "      <th>0</th>\n",
       "      <td>/ccmb/BioinfCore/DNASeqCore/Run_1630/rhim/Run_1630/rhim/Sample_64555/64555_GGCTAC_S10_L002_R1_001.fastq.gz</td>\n",
       "      <td>/ccmb/BioinfCore/DNASeqCore/Run_1630/rhim/Run_1630/rhim/Sample_64555</td>\n",
       "      <td>64555_GGCTAC_S10_L002_R1_001.fastq.gz</td>\n",
       "      <td>64555_GGCTAC_S10_L002</td>\n",
       "      <td>r1</td>\n",
       "    </tr>\n",
       "    <tr>\n",
       "      <th>1</th>\n",
       "      <td>/ccmb/BioinfCore/DNASeqCore/Run_1630/rhim/Run_1630/rhim/Sample_64555/64555_GGCTAC_S10_L001_R2_001.fastq.gz</td>\n",
       "      <td>/ccmb/BioinfCore/DNASeqCore/Run_1630/rhim/Run_1630/rhim/Sample_64555</td>\n",
       "      <td>64555_GGCTAC_S10_L001_R2_001.fastq.gz</td>\n",
       "      <td>64555_GGCTAC_S10_L001</td>\n",
       "      <td>r2</td>\n",
       "    </tr>\n",
       "    <tr>\n",
       "      <th>2</th>\n",
       "      <td>/ccmb/BioinfCore/DNASeqCore/Run_1630/rhim/Run_1630/rhim/Sample_64555/64555_GGCTAC_S10_L002_R2_001.fastq.gz</td>\n",
       "      <td>/ccmb/BioinfCore/DNASeqCore/Run_1630/rhim/Run_1630/rhim/Sample_64555</td>\n",
       "      <td>64555_GGCTAC_S10_L002_R2_001.fastq.gz</td>\n",
       "      <td>64555_GGCTAC_S10_L002</td>\n",
       "      <td>r2</td>\n",
       "    </tr>\n",
       "    <tr>\n",
       "      <th>3</th>\n",
       "      <td>/ccmb/BioinfCore/DNASeqCore/Run_1630/rhim/Run_1630/rhim/Sample_64555/64555_GGCTAC_S10_L001_R1_001.fastq.gz</td>\n",
       "      <td>/ccmb/BioinfCore/DNASeqCore/Run_1630/rhim/Run_1630/rhim/Sample_64555</td>\n",
       "      <td>64555_GGCTAC_S10_L001_R1_001.fastq.gz</td>\n",
       "      <td>64555_GGCTAC_S10_L001</td>\n",
       "      <td>r1</td>\n",
       "    </tr>\n",
       "    <tr>\n",
       "      <th>4</th>\n",
       "      <td>/ccmb/BioinfCore/DNASeqCore/Run_1630/rhim/Run_1630/rhim/Sample_64540/64540_TAGCTT_S31_L003_R1_001.fastq.gz</td>\n",
       "      <td>/ccmb/BioinfCore/DNASeqCore/Run_1630/rhim/Run_1630/rhim/Sample_64540</td>\n",
       "      <td>64540_TAGCTT_S31_L003_R1_001.fastq.gz</td>\n",
       "      <td>64540_TAGCTT_S31_L003</td>\n",
       "      <td>r1</td>\n",
       "    </tr>\n",
       "  </tbody>\n",
       "</table>\n",
       "</div>"
      ],
      "text/plain": [
       "                                                                                                         path  \\\n",
       "0  /ccmb/BioinfCore/DNASeqCore/Run_1630/rhim/Run_1630/rhim/Sample_64555/64555_GGCTAC_S10_L002_R1_001.fastq.gz   \n",
       "1  /ccmb/BioinfCore/DNASeqCore/Run_1630/rhim/Run_1630/rhim/Sample_64555/64555_GGCTAC_S10_L001_R2_001.fastq.gz   \n",
       "2  /ccmb/BioinfCore/DNASeqCore/Run_1630/rhim/Run_1630/rhim/Sample_64555/64555_GGCTAC_S10_L002_R2_001.fastq.gz   \n",
       "3  /ccmb/BioinfCore/DNASeqCore/Run_1630/rhim/Run_1630/rhim/Sample_64555/64555_GGCTAC_S10_L001_R1_001.fastq.gz   \n",
       "4  /ccmb/BioinfCore/DNASeqCore/Run_1630/rhim/Run_1630/rhim/Sample_64540/64540_TAGCTT_S31_L003_R1_001.fastq.gz   \n",
       "\n",
       "                                                                dirname  \\\n",
       "0  /ccmb/BioinfCore/DNASeqCore/Run_1630/rhim/Run_1630/rhim/Sample_64555   \n",
       "1  /ccmb/BioinfCore/DNASeqCore/Run_1630/rhim/Run_1630/rhim/Sample_64555   \n",
       "2  /ccmb/BioinfCore/DNASeqCore/Run_1630/rhim/Run_1630/rhim/Sample_64555   \n",
       "3  /ccmb/BioinfCore/DNASeqCore/Run_1630/rhim/Run_1630/rhim/Sample_64555   \n",
       "4  /ccmb/BioinfCore/DNASeqCore/Run_1630/rhim/Run_1630/rhim/Sample_64540   \n",
       "\n",
       "                                basename                 prefix read  \n",
       "0  64555_GGCTAC_S10_L002_R1_001.fastq.gz  64555_GGCTAC_S10_L002   r1  \n",
       "1  64555_GGCTAC_S10_L001_R2_001.fastq.gz  64555_GGCTAC_S10_L001   r2  \n",
       "2  64555_GGCTAC_S10_L002_R2_001.fastq.gz  64555_GGCTAC_S10_L002   r2  \n",
       "3  64555_GGCTAC_S10_L001_R1_001.fastq.gz  64555_GGCTAC_S10_L001   r1  \n",
       "4  64540_TAGCTT_S31_L003_R1_001.fastq.gz  64540_TAGCTT_S31_L003   r1  "
      ]
     },
     "execution_count": 8,
     "metadata": {},
     "output_type": "execute_result"
    }
   ],
   "source": [
    "fastqs_df['dirname'] = fastqs_df.path.apply(dirname)\n",
    "fastqs_df['basename'] = fastqs_df.path.apply(basename)\n",
    "fastqs_df['prefix'] = fastqs_df.basename.str.split('_R[12][_\\.]').apply(lambda x:x[0])\n",
    "fastqs_df['read'] = fastqs_df.basename.apply(lambda x: 'r1' if '_R1' in x else 'r2' if '_R2' in x else 'rx')\n",
    "fastqs_df.head()"
   ]
  },
  {
   "cell_type": "code",
   "execution_count": 9,
   "metadata": {},
   "outputs": [
    {
     "data": {
      "text/plain": [
       "r1    1002\n",
       "r2     787\n",
       "Name: read, dtype: int64"
      ]
     },
     "execution_count": 9,
     "metadata": {},
     "output_type": "execute_result"
    }
   ],
   "source": [
    "fastqs_df['read'].value_counts()"
   ]
  },
  {
   "cell_type": "code",
   "execution_count": 10,
   "metadata": {},
   "outputs": [
    {
     "data": {
      "text/html": [
       "<div>\n",
       "<style scoped>\n",
       "    .dataframe tbody tr th:only-of-type {\n",
       "        vertical-align: middle;\n",
       "    }\n",
       "\n",
       "    .dataframe tbody tr th {\n",
       "        vertical-align: top;\n",
       "    }\n",
       "\n",
       "    .dataframe thead th {\n",
       "        text-align: right;\n",
       "    }\n",
       "</style>\n",
       "<table border=\"1\" class=\"dataframe\">\n",
       "  <thead>\n",
       "    <tr style=\"text-align: right;\">\n",
       "      <th></th>\n",
       "      <th>path</th>\n",
       "      <th>dirname</th>\n",
       "      <th>basename</th>\n",
       "      <th>prefix</th>\n",
       "      <th>read</th>\n",
       "    </tr>\n",
       "  </thead>\n",
       "  <tbody>\n",
       "  </tbody>\n",
       "</table>\n",
       "</div>"
      ],
      "text/plain": [
       "Empty DataFrame\n",
       "Columns: [path, dirname, basename, prefix, read]\n",
       "Index: []"
      ]
     },
     "execution_count": 10,
     "metadata": {},
     "output_type": "execute_result"
    }
   ],
   "source": [
    "fastqs_df[fastqs_df['read']=='rx']"
   ]
  },
  {
   "cell_type": "code",
   "execution_count": 11,
   "metadata": {},
   "outputs": [
    {
     "data": {
      "text/html": [
       "<div>\n",
       "<style scoped>\n",
       "    .dataframe tbody tr th:only-of-type {\n",
       "        vertical-align: middle;\n",
       "    }\n",
       "\n",
       "    .dataframe tbody tr th {\n",
       "        vertical-align: top;\n",
       "    }\n",
       "\n",
       "    .dataframe thead th {\n",
       "        text-align: right;\n",
       "    }\n",
       "</style>\n",
       "<table border=\"1\" class=\"dataframe\">\n",
       "  <thead>\n",
       "    <tr style=\"text-align: right;\">\n",
       "      <th></th>\n",
       "      <th>read</th>\n",
       "      <th>r1</th>\n",
       "      <th>r2</th>\n",
       "    </tr>\n",
       "    <tr>\n",
       "      <th>dirname</th>\n",
       "      <th>prefix</th>\n",
       "      <th></th>\n",
       "      <th></th>\n",
       "    </tr>\n",
       "  </thead>\n",
       "  <tbody>\n",
       "    <tr>\n",
       "      <th rowspan=\"2\" valign=\"top\">/ccmb/BioinfCore/DNASeqCore/Run_1630/rhim/Run_1630/rhim/Sample_64528</th>\n",
       "      <th>64528_ATTCCT_S19_L003</th>\n",
       "      <td>64528_ATTCCT_S19_L003_R1_001.fastq.gz</td>\n",
       "      <td>64528_ATTCCT_S19_L003_R2_001.fastq.gz</td>\n",
       "    </tr>\n",
       "    <tr>\n",
       "      <th>64528_ATTCCT_S19_L004</th>\n",
       "      <td>64528_ATTCCT_S19_L004_R1_001.fastq.gz</td>\n",
       "      <td>64528_ATTCCT_S19_L004_R2_001.fastq.gz</td>\n",
       "    </tr>\n",
       "    <tr>\n",
       "      <th rowspan=\"2\" valign=\"top\">/ccmb/BioinfCore/DNASeqCore/Run_1630/rhim/Run_1630/rhim/Sample_64529</th>\n",
       "      <th>64529_GGCTAC_S20_L003</th>\n",
       "      <td>64529_GGCTAC_S20_L003_R1_001.fastq.gz</td>\n",
       "      <td>64529_GGCTAC_S20_L003_R2_001.fastq.gz</td>\n",
       "    </tr>\n",
       "    <tr>\n",
       "      <th>64529_GGCTAC_S20_L004</th>\n",
       "      <td>64529_GGCTAC_S20_L004_R1_001.fastq.gz</td>\n",
       "      <td>64529_GGCTAC_S20_L004_R2_001.fastq.gz</td>\n",
       "    </tr>\n",
       "    <tr>\n",
       "      <th>/ccmb/BioinfCore/DNASeqCore/Run_1630/rhim/Run_1630/rhim/Sample_64530</th>\n",
       "      <th>64530_ACTTGA_S21_L003</th>\n",
       "      <td>64530_ACTTGA_S21_L003_R1_001.fastq.gz</td>\n",
       "      <td>64530_ACTTGA_S21_L003_R2_001.fastq.gz</td>\n",
       "    </tr>\n",
       "  </tbody>\n",
       "</table>\n",
       "</div>"
      ],
      "text/plain": [
       "read                                                                                                                           r1  \\\n",
       "dirname                                                              prefix                                                         \n",
       "/ccmb/BioinfCore/DNASeqCore/Run_1630/rhim/Run_1630/rhim/Sample_64528 64528_ATTCCT_S19_L003  64528_ATTCCT_S19_L003_R1_001.fastq.gz   \n",
       "                                                                     64528_ATTCCT_S19_L004  64528_ATTCCT_S19_L004_R1_001.fastq.gz   \n",
       "/ccmb/BioinfCore/DNASeqCore/Run_1630/rhim/Run_1630/rhim/Sample_64529 64529_GGCTAC_S20_L003  64529_GGCTAC_S20_L003_R1_001.fastq.gz   \n",
       "                                                                     64529_GGCTAC_S20_L004  64529_GGCTAC_S20_L004_R1_001.fastq.gz   \n",
       "/ccmb/BioinfCore/DNASeqCore/Run_1630/rhim/Run_1630/rhim/Sample_64530 64530_ACTTGA_S21_L003  64530_ACTTGA_S21_L003_R1_001.fastq.gz   \n",
       "\n",
       "read                                                                                                                           r2  \n",
       "dirname                                                              prefix                                                        \n",
       "/ccmb/BioinfCore/DNASeqCore/Run_1630/rhim/Run_1630/rhim/Sample_64528 64528_ATTCCT_S19_L003  64528_ATTCCT_S19_L003_R2_001.fastq.gz  \n",
       "                                                                     64528_ATTCCT_S19_L004  64528_ATTCCT_S19_L004_R2_001.fastq.gz  \n",
       "/ccmb/BioinfCore/DNASeqCore/Run_1630/rhim/Run_1630/rhim/Sample_64529 64529_GGCTAC_S20_L003  64529_GGCTAC_S20_L003_R2_001.fastq.gz  \n",
       "                                                                     64529_GGCTAC_S20_L004  64529_GGCTAC_S20_L004_R2_001.fastq.gz  \n",
       "/ccmb/BioinfCore/DNASeqCore/Run_1630/rhim/Run_1630/rhim/Sample_64530 64530_ACTTGA_S21_L003  64530_ACTTGA_S21_L003_R2_001.fastq.gz  "
      ]
     },
     "execution_count": 11,
     "metadata": {},
     "output_type": "execute_result"
    }
   ],
   "source": [
    "fastq_by_read_df = pd.pivot_table(fastqs_df[['dirname','prefix','basename','read']],\n",
    "                                  index=['dirname', 'prefix'],\n",
    "                                  values='basename',\n",
    "                                  columns='read',\n",
    "                                  aggfunc='min')\n",
    "fastq_by_read_df.head()"
   ]
  },
  {
   "cell_type": "code",
   "execution_count": 13,
   "metadata": {},
   "outputs": [
    {
     "data": {
      "text/html": [
       "<div>\n",
       "<style scoped>\n",
       "    .dataframe tbody tr th:only-of-type {\n",
       "        vertical-align: middle;\n",
       "    }\n",
       "\n",
       "    .dataframe tbody tr th {\n",
       "        vertical-align: top;\n",
       "    }\n",
       "\n",
       "    .dataframe thead th {\n",
       "        text-align: right;\n",
       "    }\n",
       "</style>\n",
       "<table border=\"1\" class=\"dataframe\">\n",
       "  <thead>\n",
       "    <tr style=\"text-align: right;\">\n",
       "      <th>read</th>\n",
       "      <th>dirname</th>\n",
       "      <th>prefix</th>\n",
       "      <th>r1</th>\n",
       "      <th>r2</th>\n",
       "      <th>r1_path</th>\n",
       "      <th>r2_path</th>\n",
       "    </tr>\n",
       "  </thead>\n",
       "  <tbody>\n",
       "    <tr>\n",
       "      <th>0</th>\n",
       "      <td>/ccmb/BioinfCore/DNASeqCore/Run_1630/rhim/Run_1630/rhim/Sample_64528</td>\n",
       "      <td>64528_ATTCCT_S19_L003</td>\n",
       "      <td>64528_ATTCCT_S19_L003_R1_001.fastq.gz</td>\n",
       "      <td>64528_ATTCCT_S19_L003_R2_001.fastq.gz</td>\n",
       "      <td>/ccmb/BioinfCore/DNASeqCore/Run_1630/rhim/Run_1630/rhim/Sample_64528/64528_ATTCCT_S19_L003_R1_001.fastq.gz</td>\n",
       "      <td>/ccmb/BioinfCore/DNASeqCore/Run_1630/rhim/Run_1630/rhim/Sample_64528/64528_ATTCCT_S19_L003_R2_001.fastq.gz</td>\n",
       "    </tr>\n",
       "    <tr>\n",
       "      <th>1</th>\n",
       "      <td>/ccmb/BioinfCore/DNASeqCore/Run_1630/rhim/Run_1630/rhim/Sample_64528</td>\n",
       "      <td>64528_ATTCCT_S19_L004</td>\n",
       "      <td>64528_ATTCCT_S19_L004_R1_001.fastq.gz</td>\n",
       "      <td>64528_ATTCCT_S19_L004_R2_001.fastq.gz</td>\n",
       "      <td>/ccmb/BioinfCore/DNASeqCore/Run_1630/rhim/Run_1630/rhim/Sample_64528/64528_ATTCCT_S19_L004_R1_001.fastq.gz</td>\n",
       "      <td>/ccmb/BioinfCore/DNASeqCore/Run_1630/rhim/Run_1630/rhim/Sample_64528/64528_ATTCCT_S19_L004_R2_001.fastq.gz</td>\n",
       "    </tr>\n",
       "    <tr>\n",
       "      <th>2</th>\n",
       "      <td>/ccmb/BioinfCore/DNASeqCore/Run_1630/rhim/Run_1630/rhim/Sample_64529</td>\n",
       "      <td>64529_GGCTAC_S20_L003</td>\n",
       "      <td>64529_GGCTAC_S20_L003_R1_001.fastq.gz</td>\n",
       "      <td>64529_GGCTAC_S20_L003_R2_001.fastq.gz</td>\n",
       "      <td>/ccmb/BioinfCore/DNASeqCore/Run_1630/rhim/Run_1630/rhim/Sample_64529/64529_GGCTAC_S20_L003_R1_001.fastq.gz</td>\n",
       "      <td>/ccmb/BioinfCore/DNASeqCore/Run_1630/rhim/Run_1630/rhim/Sample_64529/64529_GGCTAC_S20_L003_R2_001.fastq.gz</td>\n",
       "    </tr>\n",
       "    <tr>\n",
       "      <th>3</th>\n",
       "      <td>/ccmb/BioinfCore/DNASeqCore/Run_1630/rhim/Run_1630/rhim/Sample_64529</td>\n",
       "      <td>64529_GGCTAC_S20_L004</td>\n",
       "      <td>64529_GGCTAC_S20_L004_R1_001.fastq.gz</td>\n",
       "      <td>64529_GGCTAC_S20_L004_R2_001.fastq.gz</td>\n",
       "      <td>/ccmb/BioinfCore/DNASeqCore/Run_1630/rhim/Run_1630/rhim/Sample_64529/64529_GGCTAC_S20_L004_R1_001.fastq.gz</td>\n",
       "      <td>/ccmb/BioinfCore/DNASeqCore/Run_1630/rhim/Run_1630/rhim/Sample_64529/64529_GGCTAC_S20_L004_R2_001.fastq.gz</td>\n",
       "    </tr>\n",
       "    <tr>\n",
       "      <th>4</th>\n",
       "      <td>/ccmb/BioinfCore/DNASeqCore/Run_1630/rhim/Run_1630/rhim/Sample_64530</td>\n",
       "      <td>64530_ACTTGA_S21_L003</td>\n",
       "      <td>64530_ACTTGA_S21_L003_R1_001.fastq.gz</td>\n",
       "      <td>64530_ACTTGA_S21_L003_R2_001.fastq.gz</td>\n",
       "      <td>/ccmb/BioinfCore/DNASeqCore/Run_1630/rhim/Run_1630/rhim/Sample_64530/64530_ACTTGA_S21_L003_R1_001.fastq.gz</td>\n",
       "      <td>/ccmb/BioinfCore/DNASeqCore/Run_1630/rhim/Run_1630/rhim/Sample_64530/64530_ACTTGA_S21_L003_R2_001.fastq.gz</td>\n",
       "    </tr>\n",
       "  </tbody>\n",
       "</table>\n",
       "</div>"
      ],
      "text/plain": [
       "read                                                               dirname  \\\n",
       "0     /ccmb/BioinfCore/DNASeqCore/Run_1630/rhim/Run_1630/rhim/Sample_64528   \n",
       "1     /ccmb/BioinfCore/DNASeqCore/Run_1630/rhim/Run_1630/rhim/Sample_64528   \n",
       "2     /ccmb/BioinfCore/DNASeqCore/Run_1630/rhim/Run_1630/rhim/Sample_64529   \n",
       "3     /ccmb/BioinfCore/DNASeqCore/Run_1630/rhim/Run_1630/rhim/Sample_64529   \n",
       "4     /ccmb/BioinfCore/DNASeqCore/Run_1630/rhim/Run_1630/rhim/Sample_64530   \n",
       "\n",
       "read                 prefix                                     r1  \\\n",
       "0     64528_ATTCCT_S19_L003  64528_ATTCCT_S19_L003_R1_001.fastq.gz   \n",
       "1     64528_ATTCCT_S19_L004  64528_ATTCCT_S19_L004_R1_001.fastq.gz   \n",
       "2     64529_GGCTAC_S20_L003  64529_GGCTAC_S20_L003_R1_001.fastq.gz   \n",
       "3     64529_GGCTAC_S20_L004  64529_GGCTAC_S20_L004_R1_001.fastq.gz   \n",
       "4     64530_ACTTGA_S21_L003  64530_ACTTGA_S21_L003_R1_001.fastq.gz   \n",
       "\n",
       "read                                     r2  \\\n",
       "0     64528_ATTCCT_S19_L003_R2_001.fastq.gz   \n",
       "1     64528_ATTCCT_S19_L004_R2_001.fastq.gz   \n",
       "2     64529_GGCTAC_S20_L003_R2_001.fastq.gz   \n",
       "3     64529_GGCTAC_S20_L004_R2_001.fastq.gz   \n",
       "4     64530_ACTTGA_S21_L003_R2_001.fastq.gz   \n",
       "\n",
       "read                                                                                                     r1_path  \\\n",
       "0     /ccmb/BioinfCore/DNASeqCore/Run_1630/rhim/Run_1630/rhim/Sample_64528/64528_ATTCCT_S19_L003_R1_001.fastq.gz   \n",
       "1     /ccmb/BioinfCore/DNASeqCore/Run_1630/rhim/Run_1630/rhim/Sample_64528/64528_ATTCCT_S19_L004_R1_001.fastq.gz   \n",
       "2     /ccmb/BioinfCore/DNASeqCore/Run_1630/rhim/Run_1630/rhim/Sample_64529/64529_GGCTAC_S20_L003_R1_001.fastq.gz   \n",
       "3     /ccmb/BioinfCore/DNASeqCore/Run_1630/rhim/Run_1630/rhim/Sample_64529/64529_GGCTAC_S20_L004_R1_001.fastq.gz   \n",
       "4     /ccmb/BioinfCore/DNASeqCore/Run_1630/rhim/Run_1630/rhim/Sample_64530/64530_ACTTGA_S21_L003_R1_001.fastq.gz   \n",
       "\n",
       "read                                                                                                     r2_path  \n",
       "0     /ccmb/BioinfCore/DNASeqCore/Run_1630/rhim/Run_1630/rhim/Sample_64528/64528_ATTCCT_S19_L003_R2_001.fastq.gz  \n",
       "1     /ccmb/BioinfCore/DNASeqCore/Run_1630/rhim/Run_1630/rhim/Sample_64528/64528_ATTCCT_S19_L004_R2_001.fastq.gz  \n",
       "2     /ccmb/BioinfCore/DNASeqCore/Run_1630/rhim/Run_1630/rhim/Sample_64529/64529_GGCTAC_S20_L003_R2_001.fastq.gz  \n",
       "3     /ccmb/BioinfCore/DNASeqCore/Run_1630/rhim/Run_1630/rhim/Sample_64529/64529_GGCTAC_S20_L004_R2_001.fastq.gz  \n",
       "4     /ccmb/BioinfCore/DNASeqCore/Run_1630/rhim/Run_1630/rhim/Sample_64530/64530_ACTTGA_S21_L003_R2_001.fastq.gz  "
      ]
     },
     "execution_count": 13,
     "metadata": {},
     "output_type": "execute_result"
    }
   ],
   "source": [
    "fastq_r12_df = fastq_by_read_df[(~fastq_by_read_df.r1.isnull()) & (~fastq_by_read_df.r2.isnull())].reset_index()\n",
    "fastq_r12_df['r1_path'] = fastq_r12_df.dirname + '/' + fastq_r12_df.r1\n",
    "fastq_r12_df['r2_path'] = fastq_r12_df.dirname + '/' + fastq_r12_df.r2\n",
    "fastq_r12_df.head()"
   ]
  },
  {
   "cell_type": "code",
   "execution_count": 14,
   "metadata": {},
   "outputs": [
    {
     "name": "stdout",
     "output_type": "stream",
     "text": [
      "r1_path r2_path\n",
      "/ccmb/BioinfCore/DNASeqCore/Run_1630/rhim/Run_1630/rhim/Sample_64528/64528_ATTCCT_S19_L003_R1_001.fastq.gz /ccmb/BioinfCore/DNASeqCore/Run_1630/rhim/Run_1630/rhim/Sample_64528/64528_ATTCCT_S19_L003_R2_001.fastq.gz\n",
      "/ccmb/BioinfCore/DNASeqCore/Run_1630/rhim/Run_1630/rhim/Sample_64528/64528_ATTCCT_S19_L004_R1_001.fastq.gz /ccmb/BioinfCore/DNASeqCore/Run_1630/rhim/Run_1630/rhim/Sample_64528/64528_ATTCCT_S19_L004_R2_001.fastq.gz\n",
      "/ccmb/BioinfCore/DNASeqCore/Run_1630/rhim/Run_1630/rhim/Sample_64529/64529_GGCTAC_S20_L003_R1_001.fastq.gz /ccmb/BioinfCore/DNASeqCore/Run_1630/rhim/Run_1630/rhim/Sample_64529/64529_GGCTAC_S20_L003_R2_001.fastq.gz\n",
      "/ccmb/BioinfCore/DNASeqCore/Run_1630/rhim/Run_1630/rhim/Sample_64529/64529_GGCTAC_S20_L004_R1_001.fastq.gz /ccmb/BioinfCore/DNASeqCore/Run_1630/rhim/Run_1630/rhim/Sample_64529/64529_GGCTAC_S20_L004_R2_001.fastq.gz\n",
      "/ccmb/BioinfCore/DNASeqCore/Run_1630/rhim/Run_1630/rhim/Sample_64530/64530_ACTTGA_S21_L003_R1_001.fastq.gz /ccmb/BioinfCore/DNASeqCore/Run_1630/rhim/Run_1630/rhim/Sample_64530/64530_ACTTGA_S21_L003_R2_001.fastq.gz\n",
      "/ccmb/BioinfCore/DNASeqCore/Run_1630/rhim/Run_1630/rhim/Sample_64530/64530_ACTTGA_S21_L004_R1_001.fastq.gz /ccmb/BioinfCore/DNASeqCore/Run_1630/rhim/Run_1630/rhim/Sample_64530/64530_ACTTGA_S21_L004_R2_001.fastq.gz\n",
      "/ccmb/BioinfCore/DNASeqCore/Run_1630/rhim/Run_1630/rhim/Sample_64531/64531_CGTACG_S22_L003_R1_001.fastq.gz /ccmb/BioinfCore/DNASeqCore/Run_1630/rhim/Run_1630/rhim/Sample_64531/64531_CGTACG_S22_L003_R2_001.fastq.gz\n",
      "/ccmb/BioinfCore/DNASeqCore/Run_1630/rhim/Run_1630/rhim/Sample_64531/64531_CGTACG_S22_L004_R1_001.fastq.gz /ccmb/BioinfCore/DNASeqCore/Run_1630/rhim/Run_1630/rhim/Sample_64531/64531_CGTACG_S22_L004_R2_001.fastq.gz\n",
      "/ccmb/BioinfCore/DNASeqCore/Run_1630/rhim/Run_1630/rhim/Sample_64532/64532_AGTTCC_S23_L003_R1_001.fastq.gz /ccmb/BioinfCore/DNASeqCore/Run_1630/rhim/Run_1630/rhim/Sample_64532/64532_AGTTCC_S23_L003_R2_001.fastq.gz\n",
      "788 /tmp/fastq_r12.tmp\n"
     ]
    }
   ],
   "source": [
    "fastq_r12_df[['r1_path', 'r2_path']].to_csv('/tmp/fastq_r12.tmp', sep=' ', index=False)\n",
    "!head /tmp/fastq_r12.tmp\n",
    "!wc -l /tmp/fastq_r12.tmp"
   ]
  },
  {
   "cell_type": "code",
   "execution_count": 21,
   "metadata": {},
   "outputs": [],
   "source": [
    "!(tail -n +2 /tmp/fastq_r12.tmp | xargs -P 4 -L 1 diff -s ) 2>&1 > /tmp/fastq_r12.identical.tmp"
   ]
  },
  {
   "cell_type": "code",
   "execution_count": 22,
   "metadata": {},
   "outputs": [
    {
     "name": "stdout",
     "output_type": "stream",
     "text": [
      "787 /tmp/fastq_r12.identical.tmp\r\n"
     ]
    }
   ],
   "source": [
    "!wc -l /tmp/fastq_r12.identical.tmp"
   ]
  },
  {
   "cell_type": "code",
   "execution_count": 23,
   "metadata": {},
   "outputs": [],
   "source": [
    "!grep identical /tmp/fastq_r12.identical.tmp"
   ]
  },
  {
   "cell_type": "code",
   "execution_count": null,
   "metadata": {},
   "outputs": [],
   "source": []
  }
 ],
 "metadata": {
  "kernelspec": {
   "display_name": "Python 3",
   "language": "python",
   "name": "python3"
  },
  "language_info": {
   "codemirror_mode": {
    "name": "ipython",
    "version": 3
   },
   "file_extension": ".py",
   "mimetype": "text/x-python",
   "name": "python",
   "nbconvert_exporter": "python",
   "pygments_lexer": "ipython3",
   "version": "3.6.5"
  }
 },
 "nbformat": 4,
 "nbformat_minor": 2
}
